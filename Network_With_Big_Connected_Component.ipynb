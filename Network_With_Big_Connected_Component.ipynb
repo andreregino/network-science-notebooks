{
  "nbformat": 4,
  "nbformat_minor": 0,
  "metadata": {
    "colab": {
      "name": "Network With Big Connected Component.ipynb",
      "provenance": [],
      "authorship_tag": "ABX9TyPxb65+mrFzd7gQVokxITNQ",
      "include_colab_link": true
    },
    "kernelspec": {
      "name": "python3",
      "display_name": "Python 3"
    },
    "language_info": {
      "name": "python"
    }
  },
  "cells": [
    {
      "cell_type": "markdown",
      "metadata": {
        "id": "view-in-github",
        "colab_type": "text"
      },
      "source": [
        "<a href=\"https://colab.research.google.com/github/andreregino/network-science-notebooks/blob/main/Network_With_Big_Connected_Component.ipynb\" target=\"_parent\"><img src=\"https://colab.research.google.com/assets/colab-badge.svg\" alt=\"Open In Colab\"/></a>"
      ]
    },
    {
      "cell_type": "markdown",
      "metadata": {
        "id": "b7Abb4X4gRY3"
      },
      "source": [
        "Write a program for the following task. Starting from a graph with\n",
        "1000 nodes and no links, add links randomly, one at a time, until your\n",
        "graph has a connected component that comprises at least 501 nodes.\n",
        "What is the value of hki at this point? Repeat the experiment 50 times,\n",
        "and plot the distributiion of hki values.\n",
        "Hand in your code together with the solutions.\n",
        "\n",
        "This is not a random network, even though it has random edges"
      ]
    },
    {
      "cell_type": "code",
      "metadata": {
        "id": "qMBNqs9MgIES"
      },
      "source": [
        "# importing the used libs\n",
        "import networkx as netx\n",
        "import pandas as pd\n",
        "import matplotlib.pyplot as plt\n",
        "import random\n",
        "import numpy as np"
      ],
      "execution_count": 1,
      "outputs": []
    },
    {
      "cell_type": "code",
      "metadata": {
        "id": "1PXaaCqIM2RQ"
      },
      "source": [
        "# calculating the average degree\n",
        "def calculate_average_k(G):\n",
        "  number_of_nodes = 1000 # fixed number of degrees of the graph\n",
        "  degree_of_network = G.degree()\n",
        "  degrees = dict(degree_of_network).values()\n",
        "  average_degree = sum(degrees) / number_of_nodes\n",
        "  return average_degree"
      ],
      "execution_count": 2,
      "outputs": []
    },
    {
      "cell_type": "code",
      "metadata": {
        "id": "3_l7-5nEKENk"
      },
      "source": [
        "average_degrees = []\n",
        "\n",
        "for i in range(50):\n",
        "  exit_loop = False # control variable to exit loop when number of nodes > 500\n",
        "  random_edges = []\n",
        "  graph = netx.empty_graph(n=1000) # create empty graph with 1000 nodes\n",
        "  while exit_loop == False:\n",
        "    random_edges = np.random.choice(graph.nodes, 2) # choose 2 random nodes in the nodes' list\n",
        "    graph.add_edge(random_edges[0], random_edges[1]) #create a link between these 2 random nodes\n",
        "    sorted_connected_components = sorted(netx.connected_components(graph), key=len, reverse=True) # sort the connected components by their lengths\n",
        "    number_of_nodes = len(sorted_connected_components[0])\n",
        "    if number_of_nodes > 500:\n",
        "      exit_loop = True;\n",
        "      average_degrees.append(calculate_average_k(graph)) # list to store all K values"
      ],
      "execution_count": 3,
      "outputs": []
    },
    {
      "cell_type": "code",
      "metadata": {
        "colab": {
          "base_uri": "https://localhost:8080/",
          "height": 319
        },
        "id": "Bzl3wZM7nte_",
        "outputId": "aecc063d-ca12-4de9-cd1a-9b30e6dadfc3"
      },
      "source": [
        "# plotting the degree distribution, with y axis ranging from 0 to 1\n",
        "average_degrees = sorted(average_degrees)\n",
        "print(\"List of K values\", average_degrees) \n",
        "results, edges = np.histogram(average_degrees, density=True)\n",
        "\n",
        "width = edges[1] - edges[0]\n",
        "bins = np.arange(min(average_degrees),max(average_degrees), width)\n",
        "plt.bar(edges[:-1], results * width, width, color='blue', edgecolor='black')"
      ],
      "execution_count": 4,
      "outputs": [
        {
          "output_type": "stream",
          "text": [
            "List of K values [1.314, 1.32, 1.328, 1.334, 1.348, 1.35, 1.35, 1.352, 1.358, 1.36, 1.36, 1.364, 1.364, 1.364, 1.366, 1.368, 1.37, 1.372, 1.378, 1.378, 1.38, 1.382, 1.382, 1.386, 1.388, 1.394, 1.394, 1.394, 1.396, 1.4, 1.402, 1.404, 1.406, 1.408, 1.41, 1.412, 1.414, 1.418, 1.42, 1.42, 1.42, 1.424, 1.428, 1.432, 1.436, 1.442, 1.442, 1.442, 1.474, 1.488]\n"
          ],
          "name": "stdout"
        },
        {
          "output_type": "execute_result",
          "data": {
            "text/plain": [
              "<BarContainer object of 10 artists>"
            ]
          },
          "metadata": {
            "tags": []
          },
          "execution_count": 4
        },
        {
          "output_type": "display_data",
          "data": {
            "image/png": "[encoded data removed]",
            "text/plain": [
              "<Figure size 432x288 with 1 Axes>"
            ]
          },
          "metadata": {
            "tags": [],
            "needs_background": "light"
          }
        }
      ]
    }
  ]
}