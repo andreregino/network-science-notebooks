{
  "nbformat": 4,
  "nbformat_minor": 0,
  "metadata": {
    "colab": {
      "name": "Degree Distribution.ipynb",
      "provenance": [],
      "collapsed_sections": [],
      "authorship_tag": "ABX9TyM2cywY1PZAFK+bCC/UQNE3",
      "include_colab_link": true
    },
    "kernelspec": {
      "name": "python3",
      "display_name": "Python 3"
    },
    "language_info": {
      "name": "python"
    }
  },
  "cells": [
    {
      "cell_type": "markdown",
      "metadata": {
        "id": "view-in-github",
        "colab_type": "text"
      },
      "source": [
        "<a href=\"https://colab.research.google.com/github/andreregino/network-science-notebooks/blob/main/Degree_Distribution.ipynb\" target=\"_parent\"><img src=\"https://colab.research.google.com/assets/colab-badge.svg\" alt=\"Open In Colab\"/></a>"
      ]
    },
    {
      "cell_type": "code",
      "metadata": {
        "id": "dgpyOjT_7-o8"
      },
      "source": [
        "# importing the used libs\n",
        "import networkx as netx\n",
        "import pandas as pd\n",
        "import matplotlib.pyplot as plt"
      ],
      "execution_count": 1,
      "outputs": []
    },
    {
      "cell_type": "code",
      "metadata": {
        "colab": {
          "base_uri": "https://localhost:8080/"
        },
        "id": "iAFNk567Wd3z",
        "outputId": "8d1cb734-6091-431f-ff30-53cffb39e54c"
      },
      "source": [
        "# reading the graph file\n",
        "graph = pd.read_csv(\"sample-graph.tsv\", sep = '\\t', header=None)\n",
        "\n",
        "# understanding the data\n",
        "print(graph.head())\n",
        "print(graph.tail())"
      ],
      "execution_count": 2,
      "outputs": [
        {
          "output_type": "stream",
          "text": [
            "   0   1\n",
            "0  1   2\n",
            "1  1  18\n",
            "2  1  42\n",
            "3  1  44\n",
            "4  1  65\n",
            "         0    1\n",
            "24838  989  991\n",
            "24839  989  995\n",
            "24840  994  998\n",
            "24841  996  998\n",
            "24842  998  999\n"
          ],
          "name": "stdout"
        }
      ]
    },
    {
      "cell_type": "code",
      "metadata": {
        "colab": {
          "base_uri": "https://localhost:8080/"
        },
        "id": "3Mwvb9WBWhmx",
        "outputId": "759a9ff5-b2ea-454a-e991-b4eee2aca3a0"
      },
      "source": [
        "# transforming the graph file to a networkx graph\n",
        "G = netx.from_pandas_edgelist(df=graph, source=0, target=1)\n",
        "\n",
        "print(G.nodes)\n",
        "#print(G.edges)"
      ],
      "execution_count": 3,
      "outputs": [
        {
          "output_type": "stream",
          "text": [
            "[1, 2, 18, 42, 44, 65, 74, 87, 99, 114, 120, 129, 170, 175, 189, 214, 216, 223, 282, 283, 310, 333, 356, 373, 374, 377, 404, 437, 516, 562, 563, 564, 595, 614, 636, 640, 641, 647, 662, 668, 675, 689, 724, 739, 756, 777, 811, 841, 864, 866, 906, 910, 925, 940, 943, 947, 978, 983, 48, 73, 115, 121, 125, 136, 137, 145, 165, 213, 248, 256, 257, 258, 266, 307, 330, 360, 385, 391, 407, 412, 425, 434, 436, 462, 471, 528, 579, 607, 610, 620, 626, 659, 660, 690, 695, 712, 713, 747, 748, 770, 772, 779, 789, 801, 813, 825, 871, 873, 919, 931, 997, 3, 5, 8, 17, 28, 38, 60, 94, 131, 148, 190, 194, 203, 218, 254, 325, 338, 357, 378, 389, 444, 493, 630, 638, 648, 669, 744, 757, 824, 863, 886, 902, 909, 912, 914, 915, 961, 984, 4, 41, 56, 97, 110, 122, 211, 264, 293, 294, 297, 316, 362, 364, 458, 486, 490, 509, 522, 544, 546, 553, 561, 591, 631, 679, 687, 700, 714, 743, 775, 803, 818, 821, 849, 867, 872, 889, 894, 896, 946, 13, 21, 47, 80, 95, 98, 156, 191, 207, 273, 299, 303, 380, 382, 399, 403, 416, 451, 474, 566, 597, 656, 745, 794, 840, 861, 869, 879, 891, 953, 985, 991, 6, 10, 50, 83, 103, 210, 268, 271, 279, 291, 300, 321, 365, 409, 414, 415, 459, 461, 543, 594, 609, 623, 667, 676, 693, 717, 765, 774, 787, 791, 798, 874, 876, 877, 898, 924, 995, 7, 11, 133, 138, 150, 201, 235, 244, 323, 332, 336, 339, 400, 402, 405, 431, 556, 577, 590, 637, 654, 725, 730, 768, 781, 784, 822, 831, 834, 854, 895, 936, 949, 971, 12, 46, 171, 226, 237, 259, 262, 328, 383, 393, 417, 448, 455, 457, 491, 506, 508, 518, 542, 571, 646, 650, 696, 754, 760, 776, 795, 810, 843, 853, 887, 913, 941, 965, 981, 9, 14, 33, 36, 40, 51, 54, 79, 102, 123, 140, 177, 234, 241, 272, 284, 314, 320, 324, 353, 371, 479, 515, 547, 557, 616, 617, 634, 644, 657, 663, 694, 698, 752, 767, 785, 823, 829, 844, 868, 974, 27, 29, 34, 53, 101, 127, 130, 134, 155, 160, 181, 255, 287, 292, 318, 411, 454, 465, 477, 481, 499, 507, 525, 529, 539, 559, 584, 602, 621, 664, 711, 729, 780, 809, 819, 820, 860, 881, 884, 921, 922, 950, 952, 993, 23, 26, 84, 96, 105, 118, 164, 174, 188, 236, 242, 263, 327, 427, 449, 487, 520, 548, 550, 565, 567, 587, 599, 629, 633, 642, 652, 680, 681, 709, 733, 742, 830, 870, 897, 903, 918, 957, 24, 49, 144, 183, 192, 204, 232, 240, 295, 348, 401, 424, 445, 468, 472, 478, 538, 540, 576, 736, 737, 758, 799, 806, 833, 851, 852, 890, 926, 954, 998, 20, 66, 68, 93, 100, 246, 251, 366, 370, 381, 450, 484, 502, 505, 526, 535, 552, 582, 583, 632, 705, 715, 720, 759, 769, 959, 982, 986, 162, 178, 202, 243, 249, 281, 302, 329, 349, 408, 446, 512, 541, 585, 592, 603, 672, 678, 691, 802, 808, 814, 827, 880, 948, 992, 15, 59, 63, 89, 111, 157, 169, 199, 208, 309, 421, 440, 485, 488, 555, 839, 892, 966, 970, 16, 108, 139, 166, 179, 195, 198, 311, 317, 326, 361, 410, 497, 519, 728, 740, 751, 57, 62, 124, 267, 276, 315, 337, 341, 367, 398, 453, 456, 517, 530, 601, 619, 671, 688, 766, 788, 836, 858, 920, 929, 972, 977, 999, 43, 75, 126, 184, 220, 225, 238, 245, 296, 423, 504, 568, 622, 653, 677, 837, 994, 19, 58, 69, 107, 221, 222, 227, 280, 301, 466, 483, 495, 500, 570, 628, 685, 718, 732, 735, 790, 792, 817, 838, 882, 904, 938, 161, 185, 200, 289, 305, 368, 372, 395, 426, 442, 588, 612, 618, 850, 935, 937, 109, 196, 340, 352, 363, 480, 554, 560, 701, 782, 797, 815, 816, 826, 859, 951, 963, 22, 116, 187, 228, 252, 288, 355, 428, 447, 581, 649, 670, 865, 893, 955, 960, 70, 154, 172, 182, 186, 197, 233, 250, 269, 492, 534, 699, 846, 934, 90, 132, 286, 313, 375, 438, 514, 615, 702, 706, 755, 875, 883, 908, 944, 25, 32, 151, 231, 312, 343, 390, 418, 433, 473, 496, 845, 885, 905, 930, 72, 141, 159, 260, 358, 384, 420, 684, 793, 842, 980, 180, 219, 277, 285, 387, 392, 435, 596, 778, 907, 968, 975, 989, 247, 261, 278, 290, 335, 429, 441, 501, 536, 608, 703, 710, 800, 812, 832, 917, 973, 31, 64, 67, 128, 168, 275, 304, 498, 513, 643, 682, 697, 30, 112, 265, 388, 531, 575, 723, 734, 773, 807, 899, 942, 988, 104, 119, 369, 533, 549, 600, 673, 731, 746, 771, 927, 976, 146, 158, 274, 347, 419, 494, 624, 655, 722, 862, 969, 61, 71, 77, 142, 334, 396, 558, 593, 796, 855, 900, 1000, 88, 209, 351, 467, 692, 719, 805, 878, 933, 958, 35, 55, 85, 212, 783, 176, 578, 580, 37, 82, 173, 215, 239, 379, 625, 686, 856, 916, 413, 439, 452, 605, 613, 683, 764, 901, 39, 153, 354, 460, 511, 537, 665, 786, 928, 962, 422, 627, 990, 92, 135, 350, 443, 147, 152, 376, 469, 726, 761, 76, 253, 345, 406, 432, 489, 532, 572, 651, 569, 658, 741, 847, 45, 113, 322, 763, 964, 117, 149, 193, 574, 645, 666, 586, 727, 475, 527, 545, 573, 598, 78, 298, 551, 606, 635, 308, 716, 143, 217, 344, 749, 996, 52, 205, 224, 359, 503, 270, 342, 589, 708, 750, 835, 956, 987, 319, 81, 206, 331, 762, 510, 91, 482, 661, 828, 163, 639, 430, 523, 524, 611, 386, 721, 911, 394, 463, 464, 604, 704, 738, 804, 674, 848, 888, 932, 346, 306, 939, 167, 230, 397, 470, 707, 857, 86, 106, 753, 923, 967, 945, 979, 476, 521, 229]\n"
          ],
          "name": "stdout"
        }
      ]
    },
    {
      "cell_type": "code",
      "metadata": {
        "colab": {
          "base_uri": "https://localhost:8080/"
        },
        "id": "_WLyrtuW8JUb",
        "outputId": "290c7b11-796e-4158-c347-514745b49231"
      },
      "source": [
        "# calculating the average degree\n",
        "number_of_nodes = 1000\n",
        "degree_of_network = G.degree()\n",
        "degrees = dict(degree_of_network).values()\n",
        "print(\"List of degrees\", degrees)\n",
        "print(\"Average degree\", sum(degrees) / number_of_nodes)"
      ],
      "execution_count": 4,
      "outputs": [
        {
          "output_type": "stream",
          "text": [
            "List of degrees dict_values([57, 58, 42, 67, 36, 52, 43, 48, 37, 47, 53, 49, 62, 45, 54, 47, 46, 56, 60, 55, 45, 40, 50, 50, 41, 54, 43, 67, 55, 59, 44, 52, 52, 64, 44, 53, 48, 64, 55, 46, 44, 53, 55, 32, 50, 45, 58, 61, 62, 65, 45, 62, 42, 48, 60, 43, 53, 51, 52, 37, 53, 47, 42, 63, 41, 59, 50, 59, 55, 52, 50, 54, 51, 51, 46, 44, 48, 66, 52, 45, 49, 52, 38, 43, 52, 46, 52, 53, 44, 62, 62, 54, 60, 46, 57, 52, 55, 45, 56, 56, 57, 50, 46, 44, 57, 39, 49, 49, 44, 50, 57, 41, 44, 44, 59, 51, 51, 37, 46, 41, 50, 53, 47, 53, 51, 46, 48, 61, 51, 44, 45, 47, 46, 56, 56, 60, 42, 47, 58, 49, 57, 57, 38, 53, 51, 43, 44, 49, 46, 48, 51, 52, 49, 52, 50, 60, 62, 48, 65, 58, 42, 49, 46, 47, 51, 45, 52, 57, 44, 55, 46, 41, 48, 50, 46, 41, 55, 50, 51, 47, 50, 64, 47, 47, 55, 63, 56, 64, 43, 55, 60, 42, 66, 49, 47, 56, 53, 45, 50, 51, 53, 55, 55, 44, 40, 61, 51, 54, 62, 53, 49, 58, 62, 44, 52, 41, 50, 51, 47, 48, 52, 52, 54, 61, 45, 50, 50, 52, 45, 48, 53, 48, 49, 39, 61, 55, 43, 48, 56, 42, 61, 52, 47, 43, 53, 49, 46, 56, 48, 52, 46, 57, 60, 63, 67, 45, 57, 57, 50, 41, 62, 56, 56, 56, 47, 58, 48, 56, 53, 48, 66, 51, 51, 39, 51, 51, 45, 45, 48, 43, 51, 52, 52, 55, 42, 54, 45, 46, 59, 59, 44, 38, 46, 49, 43, 43, 50, 60, 41, 49, 51, 58, 59, 52, 46, 51, 44, 56, 52, 45, 46, 47, 46, 44, 53, 42, 35, 44, 47, 45, 51, 53, 44, 50, 61, 48, 46, 45, 57, 48, 49, 58, 53, 69, 45, 52, 43, 56, 44, 44, 51, 46, 61, 48, 49, 49, 42, 42, 45, 54, 63, 40, 47, 41, 46, 50, 64, 61, 52, 51, 62, 46, 58, 46, 52, 47, 45, 52, 48, 54, 50, 48, 59, 50, 60, 64, 57, 42, 53, 60, 53, 37, 51, 41, 44, 46, 41, 48, 46, 45, 58, 64, 60, 59, 43, 38, 34, 55, 59, 49, 40, 56, 50, 56, 51, 38, 40, 47, 48, 55, 53, 48, 41, 48, 42, 47, 46, 53, 56, 50, 35, 57, 43, 48, 48, 47, 48, 36, 43, 65, 46, 37, 41, 48, 59, 61, 42, 48, 44, 54, 44, 42, 62, 56, 49, 34, 52, 60, 55, 57, 46, 62, 51, 56, 42, 60, 53, 68, 44, 43, 51, 52, 48, 55, 47, 42, 47, 46, 52, 49, 43, 52, 50, 47, 47, 53, 45, 52, 47, 48, 42, 50, 37, 48, 62, 44, 51, 49, 44, 44, 42, 39, 46, 55, 47, 50, 44, 51, 54, 43, 49, 49, 57, 48, 46, 51, 41, 60, 49, 50, 35, 57, 49, 51, 44, 50, 52, 50, 44, 56, 45, 42, 60, 51, 42, 47, 49, 66, 46, 55, 54, 65, 48, 59, 40, 45, 50, 46, 50, 48, 57, 45, 50, 45, 56, 52, 48, 52, 53, 54, 50, 44, 51, 48, 49, 45, 48, 47, 48, 35, 56, 50, 44, 43, 39, 64, 41, 49, 38, 46, 46, 48, 40, 59, 55, 43, 42, 47, 61, 51, 54, 49, 47, 52, 42, 50, 49, 51, 49, 49, 49, 46, 52, 46, 37, 49, 45, 50, 35, 49, 55, 53, 62, 39, 55, 64, 51, 46, 45, 45, 55, 43, 41, 52, 53, 48, 51, 50, 43, 54, 60, 63, 44, 44, 40, 32, 37, 56, 38, 45, 56, 43, 50, 62, 42, 41, 47, 44, 61, 51, 48, 56, 39, 52, 64, 48, 50, 53, 58, 49, 44, 38, 51, 64, 53, 49, 56, 45, 46, 59, 61, 57, 47, 51, 53, 58, 57, 42, 39, 43, 56, 51, 54, 38, 55, 53, 55, 40, 51, 50, 50, 42, 49, 37, 56, 52, 44, 53, 50, 45, 53, 49, 52, 47, 50, 59, 45, 42, 49, 61, 45, 46, 51, 50, 50, 58, 56, 44, 52, 54, 45, 45, 49, 42, 62, 54, 51, 50, 46, 56, 58, 45, 42, 49, 63, 44, 54, 53, 65, 46, 46, 54, 57, 50, 57, 46, 50, 42, 44, 57, 43, 52, 54, 51, 43, 35, 45, 54, 47, 49, 51, 49, 52, 47, 51, 39, 32, 58, 43, 54, 50, 52, 47, 46, 53, 44, 48, 57, 46, 43, 56, 48, 45, 42, 44, 57, 55, 53, 51, 56, 41, 55, 54, 48, 50, 40, 46, 59, 49, 31, 43, 51, 53, 46, 51, 58, 55, 44, 53, 52, 49, 54, 62, 44, 70, 49, 42, 51, 53, 57, 48, 44, 56, 50, 56, 43, 52, 42, 53, 52, 49, 44, 53, 47, 52, 41, 52, 58, 60, 49, 36, 39, 57, 49, 51, 49, 54, 45, 39, 61, 46, 51, 43, 43, 55, 47, 51, 48, 52, 54, 41, 56, 47, 46, 46, 52, 48, 46, 47, 46, 52, 46, 46, 50, 42, 53, 48, 52, 48, 44, 62, 50, 52, 47, 58, 46, 42, 41, 46, 59, 49, 48, 58, 61, 43, 51, 45, 50, 49, 47, 41, 40, 44, 57, 32, 46, 47, 61, 51, 47, 49, 50, 49, 53, 45, 46, 42, 42, 33, 46, 43, 51, 48, 39, 39, 44, 36, 46, 48, 52, 38, 50, 45, 46, 47, 50, 57, 70, 58, 50, 51, 51, 47, 57, 48, 55, 41, 50, 45, 46, 47, 49, 57, 50, 55, 52, 47, 54, 38, 45, 39, 55, 62, 50, 46, 43, 39, 40, 51, 57, 41, 48, 51, 62, 53, 39, 52, 34, 52, 53, 40, 50, 62, 58, 49, 57, 57, 49, 54, 42, 59, 50, 43, 41, 43, 47, 62, 48, 48, 55, 50, 38, 49, 42, 46, 56, 53, 41, 41, 44])\n",
            "Average degree 49.686\n"
          ],
          "name": "stdout"
        }
      ]
    },
    {
      "cell_type": "code",
      "metadata": {
        "colab": {
          "base_uri": "https://localhost:8080/",
          "height": 265
        },
        "id": "UqDG_uZ_M7j1",
        "outputId": "0b8b1d5f-fd21-4b3f-d43c-e07d40da32d8"
      },
      "source": [
        "# plotting the degree distribution, with y axis ranging from 0 to 1\n",
        "plt.hist(dict(degree_of_network).values(), density=True)\n",
        "plt.show()\n"
      ],
      "execution_count": 5,
      "outputs": [
        {
          "output_type": "display_data",
          "data": {
            "image/png": "[encoded data removed]",
            "text/plain": [
              "<Figure size 432x288 with 1 Axes>"
            ]
          },
          "metadata": {
            "tags": [],
            "needs_background": "light"
          }
        }
      ]
    },
    {
      "cell_type": "code",
      "metadata": {
        "colab": {
          "base_uri": "https://localhost:8080/",
          "height": 265
        },
        "id": "ZhKBtzj-WVXa",
        "outputId": "659664d8-25f4-425f-a400-550be53876ef"
      },
      "source": [
        "plt.hist(dict(degree_of_network).values(), bins=20, density=True)\n",
        "plt.show()"
      ],
      "execution_count": 6,
      "outputs": [
        {
          "output_type": "display_data",
          "data": {
            "image/png": "[encoded data removed]",
            "text/plain": [
              "<Figure size 432x288 with 1 Axes>"
            ]
          },
          "metadata": {
            "tags": [],
            "needs_background": "light"
          }
        }
      ]
    }
  ]
}