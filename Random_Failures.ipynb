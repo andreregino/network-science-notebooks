{
  "nbformat": 4,
  "nbformat_minor": 0,
  "metadata": {
    "colab": {
      "name": "Random Failures.ipynb",
      "provenance": [],
      "authorship_tag": "ABX9TyPmRUUp3qWIz4Kw55a//0VO",
      "include_colab_link": true
    },
    "kernelspec": {
      "name": "python3",
      "display_name": "Python 3"
    },
    "language_info": {
      "name": "python"
    }
  },
  "cells": [
    {
      "cell_type": "markdown",
      "metadata": {
        "id": "view-in-github",
        "colab_type": "text"
      },
      "source": [
        "<a href=\"https://colab.research.google.com/github/andreregino/network-science-notebooks/blob/main/Random_Failures.ipynb\" target=\"_parent\"><img src=\"https://colab.research.google.com/assets/colab-badge.svg\" alt=\"Open In Colab\"/></a>"
      ]
    },
    {
      "cell_type": "code",
      "metadata": {
        "id": "FHbDw87PAqAb"
      },
      "source": [
        "import matplotlib.pyplot as plt\n",
        "import networkx as netx\n",
        "import random\n",
        "import pandas as pd\n",
        "import numpy as np"
      ],
      "execution_count": 18,
      "outputs": []
    },
    {
      "cell_type": "code",
      "metadata": {
        "id": "NasoC94ubfo4"
      },
      "source": [
        "# remove a certain number of nodes\n",
        "# if the node does not exist, search random\n",
        "def remove_random_node(G, n):\n",
        "  node = np.random.choice(G.nodes, n)\n",
        "  for i in range(n):\n",
        "    for k in range(100):\n",
        "      if G.has_node(node[i] + k):\n",
        "        G.remove_node(node[i] + k)\n",
        "        break"
      ],
      "execution_count": 19,
      "outputs": []
    },
    {
      "cell_type": "code",
      "metadata": {
        "colab": {
          "base_uri": "https://localhost:8080/"
        },
        "id": "tvBL8p6ra9SB",
        "outputId": "8288da3c-313b-4f26-dc68-db0fe0157b23"
      },
      "source": [
        "# reading the graph file\n",
        "graph = pd.read_csv(\"netA.txt\", sep = '\\t', header=None)\n",
        "\n",
        "# understanding the data\n",
        "print(graph.head())\n",
        "print(graph.tail())"
      ],
      "execution_count": 20,
      "outputs": [
        {
          "output_type": "stream",
          "text": [
            "   0    1\n",
            "0  0  496\n",
            "1  0  499\n",
            "2  0  502\n",
            "3  0  504\n",
            "4  0  589\n",
            "         0     1\n",
            "5797  1037   589\n",
            "5798  1037  1034\n",
            "5799  1038   249\n",
            "5800  1038   589\n",
            "5801  1038   819\n"
          ],
          "name": "stdout"
        }
      ]
    },
    {
      "cell_type": "code",
      "metadata": {
        "colab": {
          "base_uri": "https://localhost:8080/"
        },
        "id": "Z_OuOBzqbSxA",
        "outputId": "caa7f171-4ccf-4ad3-8272-17f4c2808548"
      },
      "source": [
        "# initial state\n",
        "G = netx.from_pandas_edgelist(df=graph, source=0, target=1)\n",
        "print(\"Initial number of nodes:\", len(G.nodes))\n",
        "print(\"Initial number of edges:\", len(G.edges))\n",
        "removed_nodes = len(G.nodes) * 0.05\n",
        "print(\"Number of nodes to be removed in each iteration\", removed_nodes)\n",
        "sorted_connected_components = sorted(netx.connected_components(G), key=len, reverse=True)\n",
        "print(\"Biggest component size:\", len(sorted_connected_components[0]))\n",
        "print(\"Initially, the network has 1 giant component with number of nodes equal to the total number of nodes of the whole network\")"
      ],
      "execution_count": 21,
      "outputs": [
        {
          "output_type": "stream",
          "text": [
            "Initial number of nodes: 1039\n",
            "Initial number of edges: 4741\n",
            "Number of nodes to be removed in each iteration 51.95\n",
            "Biggest component size: 1039\n",
            "Initially, the network has 1 giant component with number of nodes equal to the total number of nodes of the whole network\n"
          ],
          "name": "stdout"
        }
      ]
    },
    {
      "cell_type": "code",
      "metadata": {
        "colab": {
          "base_uri": "https://localhost:8080/"
        },
        "id": "demzoA5qb42H",
        "outputId": "dc95f273-a80f-442b-f044-74557d702931"
      },
      "source": [
        "func = []\n",
        "f = 0.05\n",
        "for i in range(20):\n",
        "  \n",
        "  remove_random_node(G, int(removed_nodes))\n",
        "  sorted_connected_components = sorted(netx.connected_components(G), key=len, reverse=True)\n",
        "  #print(\"Tamanho do maior componente:\", len(sorted_connected_components[0]))\n",
        "  #print(len(sorted_connected_components[0]) / len(G.nodes))\n",
        "  print(\"f: \", f, \"number of nodes:\", len(G.nodes), \"size of biggest connected component:\", len(sorted_connected_components[0]), \"P ratio:\", len(sorted_connected_components[0]) / len(G.nodes))\n",
        "  func.append(len(sorted_connected_components[0]) / len(G.nodes))\n",
        "  f+=0.05"
      ],
      "execution_count": 22,
      "outputs": [
        {
          "output_type": "stream",
          "text": [
            "f:  0.05 number of nodes: 988 size of biggest connected component: 988 f value: 1.0\n",
            "f:  0.1 number of nodes: 937 size of biggest connected component: 937 f value: 1.0\n",
            "f:  0.15000000000000002 number of nodes: 886 size of biggest connected component: 885 f value: 0.9988713318284425\n",
            "f:  0.2 number of nodes: 835 size of biggest connected component: 832 f value: 0.9964071856287425\n",
            "f:  0.25 number of nodes: 784 size of biggest connected component: 780 f value: 0.9948979591836735\n",
            "f:  0.3 number of nodes: 733 size of biggest connected component: 726 f value: 0.990450204638472\n",
            "f:  0.35 number of nodes: 682 size of biggest connected component: 674 f value: 0.9882697947214076\n",
            "f:  0.39999999999999997 number of nodes: 631 size of biggest connected component: 620 f value: 0.9825673534072901\n",
            "f:  0.44999999999999996 number of nodes: 580 size of biggest connected component: 571 f value: 0.9844827586206897\n",
            "f:  0.49999999999999994 number of nodes: 529 size of biggest connected component: 521 f value: 0.9848771266540642\n",
            "f:  0.5499999999999999 number of nodes: 478 size of biggest connected component: 469 f value: 0.9811715481171548\n",
            "f:  0.6 number of nodes: 427 size of biggest connected component: 410 f value: 0.9601873536299765\n",
            "f:  0.65 number of nodes: 376 size of biggest connected component: 359 f value: 0.9547872340425532\n",
            "f:  0.7000000000000001 number of nodes: 325 size of biggest connected component: 304 f value: 0.9353846153846154\n",
            "f:  0.7500000000000001 number of nodes: 274 size of biggest connected component: 256 f value: 0.9343065693430657\n",
            "f:  0.8000000000000002 number of nodes: 223 size of biggest connected component: 199 f value: 0.8923766816143498\n",
            "f:  0.8500000000000002 number of nodes: 172 size of biggest connected component: 155 f value: 0.9011627906976745\n",
            "f:  0.9000000000000002 number of nodes: 121 size of biggest connected component: 104 f value: 0.859504132231405\n",
            "f:  0.9500000000000003 number of nodes: 70 size of biggest connected component: 13 f value: 0.18571428571428572\n",
            "f:  1.0000000000000002 number of nodes: 22 size of biggest connected component: 4 f value: 0.18181818181818182\n"
          ],
          "name": "stdout"
        }
      ]
    },
    {
      "cell_type": "code",
      "metadata": {
        "colab": {
          "base_uri": "https://localhost:8080/",
          "height": 282
        },
        "id": "_3M-_-uQioJc",
        "outputId": "02fc8643-1ead-418f-822f-8d062cd7ab69"
      },
      "source": [
        "plt.style.use('ggplot')\n",
        "lines = plt.plot(np.arange(0,1, 0.05), func, color='red', linewidth=3)\n",
        "plt.show()\n",
        "print(\"The value\", 0.8766, \"is the value f for which the ratio falls to\", np.interp(0.8766, np.arange(0,1, 0.05), func))"
      ],
      "execution_count": 67,
      "outputs": [
        {
          "output_type": "display_data",
          "data": {
            "image/png": "[encoded data removed]",
            "text/plain": [
              "<Figure size 432x288 with 1 Axes>"
            ]
          },
          "metadata": {
            "tags": []
          }
        },
        {
          "output_type": "stream",
          "text": [
            "The value 0.8766 is the value f for which the ratio falls to 0.5010479338842977\n"
          ],
          "name": "stdout"
        }
      ]
    },
    {
      "cell_type": "markdown",
      "metadata": {
        "id": "UBYP76dqui4q"
      },
      "source": [
        "The network is robust to random failures, given that we need to remove 87% of its node to drop the ratio to 50%."
      ]
    }
  ]
}