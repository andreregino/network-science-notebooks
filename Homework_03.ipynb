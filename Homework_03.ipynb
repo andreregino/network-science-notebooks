{
  "nbformat": 4,
  "nbformat_minor": 0,
  "metadata": {
    "colab": {
      "name": "Homework 03.ipynb",
      "provenance": [],
      "collapsed_sections": [],
      "toc_visible": true,
      "authorship_tag": "ABX9TyOW1LDzPnfNdyhZmQK3/0ix",
      "include_colab_link": true
    },
    "kernelspec": {
      "name": "python3",
      "display_name": "Python 3"
    },
    "language_info": {
      "name": "python"
    }
  },
  "cells": [
    {
      "cell_type": "markdown",
      "metadata": {
        "id": "view-in-github",
        "colab_type": "text"
      },
      "source": [
        "<a href=\"https://colab.research.google.com/github/andreregino/network-science-notebooks/blob/main/Homework_03.ipynb\" target=\"_parent\"><img src=\"https://colab.research.google.com/assets/colab-badge.svg\" alt=\"Open In Colab\"/></a>"
      ]
    },
    {
      "cell_type": "code",
      "metadata": {
        "id": "D5-QLi0mK3ca"
      },
      "source": [
        "# importing the used libs\n",
        "import random\n",
        "import networkx as netx\n",
        "import pandas as pd\n",
        "import matplotlib.pyplot as plt\n",
        "import numpy as np"
      ],
      "execution_count": 2,
      "outputs": []
    },
    {
      "cell_type": "code",
      "metadata": {
        "colab": {
          "base_uri": "https://localhost:8080/"
        },
        "id": "gHG4vka_LdxB",
        "outputId": "58ee1636-c2ff-4540-daea-3bcd62e29305"
      },
      "source": [
        "# reading the graph file\n",
        "graph = pd.read_csv(\"graph.tsv\", sep = '\\t', header=None)\n",
        "\n",
        "# understanding the data\n",
        "print(graph.head())\n",
        "print(graph.tail())"
      ],
      "execution_count": 3,
      "outputs": [
        {
          "output_type": "stream",
          "text": [
            "   0   1\n",
            "0  1   2\n",
            "1  1  18\n",
            "2  1  42\n",
            "3  1  44\n",
            "4  1  65\n",
            "         0    1\n",
            "24838  989  991\n",
            "24839  989  995\n",
            "24840  994  998\n",
            "24841  996  998\n",
            "24842  998  999\n"
          ],
          "name": "stdout"
        }
      ]
    },
    {
      "cell_type": "code",
      "metadata": {
        "colab": {
          "base_uri": "https://localhost:8080/"
        },
        "id": "cQx9AdFBbL7p",
        "outputId": "7066c112-bf5b-4ddc-f4a0-683566ea85d9"
      },
      "source": [
        "# transforming the graph file to a networkx graph\n",
        "G = netx.from_pandas_edgelist(df=graph, source=0, target=1)\n",
        "\n",
        "# verifying number of nodes and edges\n",
        "#print(G.nodes)\n",
        "#print(G.edges)"
      ],
      "execution_count": 4,
      "outputs": [
        {
          "output_type": "stream",
          "text": [
            "[1, 2, 18, 42, 44, 65, 74, 87, 99, 114, 120, 129, 170, 175, 189, 214, 216, 223, 282, 283, 310, 333, 356, 373, 374, 377, 404, 437, 516, 562, 563, 564, 595, 614, 636, 640, 641, 647, 662, 668, 675, 689, 724, 739, 756, 777, 811, 841, 864, 866, 906, 910, 925, 940, 943, 947, 978, 983, 48, 73, 115, 121, 125, 136, 137, 145, 165, 213, 248, 256, 257, 258, 266, 307, 330, 360, 385, 391, 407, 412, 425, 434, 436, 462, 471, 528, 579, 607, 610, 620, 626, 659, 660, 690, 695, 712, 713, 747, 748, 770, 772, 779, 789, 801, 813, 825, 871, 873, 919, 931, 997, 3, 5, 8, 17, 28, 38, 60, 94, 131, 148, 190, 194, 203, 218, 254, 325, 338, 357, 378, 389, 444, 493, 630, 638, 648, 669, 744, 757, 824, 863, 886, 902, 909, 912, 914, 915, 961, 984, 4, 41, 56, 97, 110, 122, 211, 264, 293, 294, 297, 316, 362, 364, 458, 486, 490, 509, 522, 544, 546, 553, 561, 591, 631, 679, 687, 700, 714, 743, 775, 803, 818, 821, 849, 867, 872, 889, 894, 896, 946, 13, 21, 47, 80, 95, 98, 156, 191, 207, 273, 299, 303, 380, 382, 399, 403, 416, 451, 474, 566, 597, 656, 745, 794, 840, 861, 869, 879, 891, 953, 985, 991, 6, 10, 50, 83, 103, 210, 268, 271, 279, 291, 300, 321, 365, 409, 414, 415, 459, 461, 543, 594, 609, 623, 667, 676, 693, 717, 765, 774, 787, 791, 798, 874, 876, 877, 898, 924, 995, 7, 11, 133, 138, 150, 201, 235, 244, 323, 332, 336, 339, 400, 402, 405, 431, 556, 577, 590, 637, 654, 725, 730, 768, 781, 784, 822, 831, 834, 854, 895, 936, 949, 971, 12, 46, 171, 226, 237, 259, 262, 328, 383, 393, 417, 448, 455, 457, 491, 506, 508, 518, 542, 571, 646, 650, 696, 754, 760, 776, 795, 810, 843, 853, 887, 913, 941, 965, 981, 9, 14, 33, 36, 40, 51, 54, 79, 102, 123, 140, 177, 234, 241, 272, 284, 314, 320, 324, 353, 371, 479, 515, 547, 557, 616, 617, 634, 644, 657, 663, 694, 698, 752, 767, 785, 823, 829, 844, 868, 974, 27, 29, 34, 53, 101, 127, 130, 134, 155, 160, 181, 255, 287, 292, 318, 411, 454, 465, 477, 481, 499, 507, 525, 529, 539, 559, 584, 602, 621, 664, 711, 729, 780, 809, 819, 820, 860, 881, 884, 921, 922, 950, 952, 993, 23, 26, 84, 96, 105, 118, 164, 174, 188, 236, 242, 263, 327, 427, 449, 487, 520, 548, 550, 565, 567, 587, 599, 629, 633, 642, 652, 680, 681, 709, 733, 742, 830, 870, 897, 903, 918, 957, 24, 49, 144, 183, 192, 204, 232, 240, 295, 348, 401, 424, 445, 468, 472, 478, 538, 540, 576, 736, 737, 758, 799, 806, 833, 851, 852, 890, 926, 954, 998, 20, 66, 68, 93, 100, 246, 251, 366, 370, 381, 450, 484, 502, 505, 526, 535, 552, 582, 583, 632, 705, 715, 720, 759, 769, 959, 982, 986, 162, 178, 202, 243, 249, 281, 302, 329, 349, 408, 446, 512, 541, 585, 592, 603, 672, 678, 691, 802, 808, 814, 827, 880, 948, 992, 15, 59, 63, 89, 111, 157, 169, 199, 208, 309, 421, 440, 485, 488, 555, 839, 892, 966, 970, 16, 108, 139, 166, 179, 195, 198, 311, 317, 326, 361, 410, 497, 519, 728, 740, 751, 57, 62, 124, 267, 276, 315, 337, 341, 367, 398, 453, 456, 517, 530, 601, 619, 671, 688, 766, 788, 836, 858, 920, 929, 972, 977, 999, 43, 75, 126, 184, 220, 225, 238, 245, 296, 423, 504, 568, 622, 653, 677, 837, 994, 19, 58, 69, 107, 221, 222, 227, 280, 301, 466, 483, 495, 500, 570, 628, 685, 718, 732, 735, 790, 792, 817, 838, 882, 904, 938, 161, 185, 200, 289, 305, 368, 372, 395, 426, 442, 588, 612, 618, 850, 935, 937, 109, 196, 340, 352, 363, 480, 554, 560, 701, 782, 797, 815, 816, 826, 859, 951, 963, 22, 116, 187, 228, 252, 288, 355, 428, 447, 581, 649, 670, 865, 893, 955, 960, 70, 154, 172, 182, 186, 197, 233, 250, 269, 492, 534, 699, 846, 934, 90, 132, 286, 313, 375, 438, 514, 615, 702, 706, 755, 875, 883, 908, 944, 25, 32, 151, 231, 312, 343, 390, 418, 433, 473, 496, 845, 885, 905, 930, 72, 141, 159, 260, 358, 384, 420, 684, 793, 842, 980, 180, 219, 277, 285, 387, 392, 435, 596, 778, 907, 968, 975, 989, 247, 261, 278, 290, 335, 429, 441, 501, 536, 608, 703, 710, 800, 812, 832, 917, 973, 31, 64, 67, 128, 168, 275, 304, 498, 513, 643, 682, 697, 30, 112, 265, 388, 531, 575, 723, 734, 773, 807, 899, 942, 988, 104, 119, 369, 533, 549, 600, 673, 731, 746, 771, 927, 976, 146, 158, 274, 347, 419, 494, 624, 655, 722, 862, 969, 61, 71, 77, 142, 334, 396, 558, 593, 796, 855, 900, 1000, 88, 209, 351, 467, 692, 719, 805, 878, 933, 958, 35, 55, 85, 212, 783, 176, 578, 580, 37, 82, 173, 215, 239, 379, 625, 686, 856, 916, 413, 439, 452, 605, 613, 683, 764, 901, 39, 153, 354, 460, 511, 537, 665, 786, 928, 962, 422, 627, 990, 92, 135, 350, 443, 147, 152, 376, 469, 726, 761, 76, 253, 345, 406, 432, 489, 532, 572, 651, 569, 658, 741, 847, 45, 113, 322, 763, 964, 117, 149, 193, 574, 645, 666, 586, 727, 475, 527, 545, 573, 598, 78, 298, 551, 606, 635, 308, 716, 143, 217, 344, 749, 996, 52, 205, 224, 359, 503, 270, 342, 589, 708, 750, 835, 956, 987, 319, 81, 206, 331, 762, 510, 91, 482, 661, 828, 163, 639, 430, 523, 524, 611, 386, 721, 911, 394, 463, 464, 604, 704, 738, 804, 674, 848, 888, 932, 346, 306, 939, 167, 230, 397, 470, 707, 857, 86, 106, 753, 923, 967, 945, 979, 476, 521, 229]\n"
          ],
          "name": "stdout"
        }
      ]
    },
    {
      "cell_type": "code",
      "metadata": {
        "colab": {
          "base_uri": "https://localhost:8080/"
        },
        "id": "kUqsf5uqbYdD",
        "outputId": "1cfa2ad4-4c45-43f2-90a7-44c1b7132b76"
      },
      "source": [
        "# choosing 100 random edges from the list of 1000 nodes\n",
        "random_edges = np.random.choice(G.nodes, 100)\n",
        "print(\"Count of random items:\", len(random_edges))\n",
        "print(random_edges)\n"
      ],
      "execution_count": 6,
      "outputs": [
        {
          "output_type": "stream",
          "text": [
            "Count of random items: 100\n",
            "[552  17 531 695 413 600 926 421  42 881 962 208 768 934 804 212 439  83\n",
            " 680 243 108 205 104 259 495 625 214 260 353 189  27 206 748 446 593 757\n",
            " 659  96 682 628 421 659 221 910 637 817  88 918 853 555 158 750 690 576\n",
            " 578 205 491 705 336 296 592 309 531 297 806 907 944 631  89 518 432 608\n",
            " 633 167 548 395 294 934 862 975 755 852 536 254 533 298 663 954 936  93\n",
            " 931 202 596 874 912 326 893 765 536 159]\n"
          ],
          "name": "stdout"
        }
      ]
    },
    {
      "cell_type": "code",
      "metadata": {
        "id": "jfhD_1sWNou2"
      },
      "source": [
        "# appending the 100 random nodes in a txt file\n",
        "count = 0\n",
        "with open('random_nodes.txt', 'w+') as f:\n",
        "  for i in random_edges:\n",
        "    line = \"V\"+ str(count) + \" \" + str(i)\n",
        "    f.write('%s \\n' %line)\n",
        "    count+=1\n",
        "f.close()"
      ],
      "execution_count": 7,
      "outputs": []
    },
    {
      "cell_type": "markdown",
      "metadata": {
        "id": "YGelTIvjstgY"
      },
      "source": [
        "### Case 1\n",
        "Here I'm considering that the 100 nodes are NOT a subgraph of the original graph with 100 nodes"
      ]
    },
    {
      "cell_type": "code",
      "metadata": {
        "colab": {
          "base_uri": "https://localhost:8080/"
        },
        "id": "I_-lHav6cvH5",
        "outputId": "d6cf90f4-847f-450a-ce5e-aecff166282e"
      },
      "source": [
        "# discovering the shortest path between Vi and Vi+1\n",
        "comma_separated_list = []\n",
        "s_path_size = []\n",
        "\n",
        "for i in range(0,len(random_edges), 2):\n",
        "\n",
        "  #calculating shortest path\n",
        "  s_path = netx.shortest_path(G,source=random_edges[i],target=random_edges[i+1])\n",
        "  s_path_size.append(len(s_path)-1)\n",
        "  s_path1 = [str(element) for element in s_path]\n",
        "  print(\"Shortest path from Vi\", random_edges[i], \"to Vi+1\", random_edges[i+1], \"is\", (s_path), \"with distance equals to\", len(s_path)-1)\n",
        "\n",
        "  # creating an array with all distance values\n",
        "  comma_separated_values = \", \".join(s_path1)\n",
        "  comma_separated_list.append(comma_separated_values)"
      ],
      "execution_count": 8,
      "outputs": [
        {
          "output_type": "stream",
          "text": [
            "Shortest path from Vi 552 to Vi+1 17 is [552, 367, 17] with distance equals to 2\n",
            "Shortest path from Vi 531 to Vi+1 695 is [531, 695] with distance equals to 1\n",
            "Shortest path from Vi 413 to Vi+1 600 is [413, 38, 467, 600] with distance equals to 3\n",
            "Shortest path from Vi 926 to Vi+1 421 is [926, 63, 421] with distance equals to 2\n",
            "Shortest path from Vi 42 to Vi+1 881 is [42, 513, 881] with distance equals to 2\n",
            "Shortest path from Vi 962 to Vi+1 208 is [962, 270, 208] with distance equals to 2\n",
            "Shortest path from Vi 768 to Vi+1 934 is [768, 107, 934] with distance equals to 2\n",
            "Shortest path from Vi 804 to Vi+1 212 is [804, 124, 212] with distance equals to 2\n",
            "Shortest path from Vi 439 to Vi+1 83 is [439, 248, 83] with distance equals to 2\n",
            "Shortest path from Vi 680 to Vi+1 243 is [680, 312, 243] with distance equals to 2\n",
            "Shortest path from Vi 108 to Vi+1 205 is [108, 752, 205] with distance equals to 2\n",
            "Shortest path from Vi 104 to Vi+1 259 is [104, 610, 259] with distance equals to 2\n",
            "Shortest path from Vi 495 to Vi+1 625 is [495, 232, 625] with distance equals to 2\n",
            "Shortest path from Vi 214 to Vi+1 260 is [214, 252, 260] with distance equals to 2\n",
            "Shortest path from Vi 353 to Vi+1 189 is [353, 225, 189] with distance equals to 2\n",
            "Shortest path from Vi 27 to Vi+1 206 is [27, 474, 206] with distance equals to 2\n",
            "Shortest path from Vi 748 to Vi+1 446 is [748, 325, 14, 446] with distance equals to 3\n",
            "Shortest path from Vi 593 to Vi+1 757 is [593, 167, 757] with distance equals to 2\n",
            "Shortest path from Vi 659 to Vi+1 96 is [659, 217, 96] with distance equals to 2\n",
            "Shortest path from Vi 682 to Vi+1 628 is [682, 175, 628] with distance equals to 2\n",
            "Shortest path from Vi 421 to Vi+1 659 is [421, 15, 659] with distance equals to 2\n",
            "Shortest path from Vi 221 to Vi+1 910 is [221, 303, 910] with distance equals to 2\n",
            "Shortest path from Vi 637 to Vi+1 817 is [637, 680, 19, 817] with distance equals to 3\n",
            "Shortest path from Vi 88 to Vi+1 918 is [88, 637, 918] with distance equals to 2\n",
            "Shortest path from Vi 853 to Vi+1 555 is [853, 465, 555] with distance equals to 2\n",
            "Shortest path from Vi 158 to Vi+1 750 is [158, 97, 750] with distance equals to 2\n",
            "Shortest path from Vi 690 to Vi+1 576 is [690, 344, 576] with distance equals to 2\n",
            "Shortest path from Vi 578 to Vi+1 205 is [578, 575, 205] with distance equals to 2\n",
            "Shortest path from Vi 491 to Vi+1 705 is [491, 22, 705] with distance equals to 2\n",
            "Shortest path from Vi 336 to Vi+1 296 is [336, 220, 18, 296] with distance equals to 3\n",
            "Shortest path from Vi 592 to Vi+1 309 is [592, 330, 309] with distance equals to 2\n",
            "Shortest path from Vi 531 to Vi+1 297 is [531, 204, 297] with distance equals to 2\n",
            "Shortest path from Vi 806 to Vi+1 907 is [806, 180, 907] with distance equals to 2\n",
            "Shortest path from Vi 944 to Vi+1 631 is [944, 24, 631] with distance equals to 2\n",
            "Shortest path from Vi 89 to Vi+1 518 is [89, 87, 518] with distance equals to 2\n",
            "Shortest path from Vi 432 to Vi+1 608 is [432, 74, 28, 608] with distance equals to 3\n",
            "Shortest path from Vi 633 to Vi+1 167 is [633, 467, 167] with distance equals to 2\n",
            "Shortest path from Vi 548 to Vi+1 395 is [548, 240, 395] with distance equals to 2\n",
            "Shortest path from Vi 294 to Vi+1 934 is [294, 282, 934] with distance equals to 2\n",
            "Shortest path from Vi 862 to Vi+1 975 is [862, 349, 975] with distance equals to 2\n",
            "Shortest path from Vi 755 to Vi+1 852 is [755, 24, 12, 852] with distance equals to 3\n",
            "Shortest path from Vi 536 to Vi+1 254 is [536, 228, 254] with distance equals to 2\n",
            "Shortest path from Vi 533 to Vi+1 298 is [533, 112, 298] with distance equals to 2\n",
            "Shortest path from Vi 663 to Vi+1 954 is [663, 954] with distance equals to 1\n",
            "Shortest path from Vi 936 to Vi+1 93 is [936, 13, 93] with distance equals to 2\n",
            "Shortest path from Vi 931 to Vi+1 202 is [931, 756, 202] with distance equals to 2\n",
            "Shortest path from Vi 596 to Vi+1 874 is [596, 620, 874] with distance equals to 2\n",
            "Shortest path from Vi 912 to Vi+1 326 is [912, 479, 326] with distance equals to 2\n",
            "Shortest path from Vi 893 to Vi+1 765 is [893, 26, 765] with distance equals to 2\n",
            "Shortest path from Vi 536 to Vi+1 159 is [536, 115, 159] with distance equals to 2\n"
          ],
          "name": "stdout"
        }
      ]
    },
    {
      "cell_type": "code",
      "metadata": {
        "id": "Pyrkt_PzaBsd"
      },
      "source": [
        "# writing shortest path to file\n",
        "with open('case1_shortest_path.txt', 'w+') as f:\n",
        "  for values in comma_separated_list:\n",
        "    f.write('%s\\n' %values)\n",
        "f.close()"
      ],
      "execution_count": 9,
      "outputs": []
    },
    {
      "cell_type": "code",
      "metadata": {
        "colab": {
          "base_uri": "https://localhost:8080/",
          "height": 319
        },
        "id": "VECvKTxJcxYa",
        "outputId": "131be871-1bc3-4a4b-f0c6-1fc5bb540e50"
      },
      "source": [
        "# Plot the distribution of the distances\n",
        "print(\"Array of distances:\", s_path_size)\n",
        "\n",
        "columns= np.arange(0,max(s_path_size)+2,1)\n",
        "results, edges = np.histogram(s_path_size, density=True, bins = columns)\n",
        "plt.xticks(edges, edges)\n",
        "plt.bar(edges[:-1], results, 1, color='red', edgecolor='black')"
      ],
      "execution_count": 10,
      "outputs": [
        {
          "output_type": "stream",
          "text": [
            "Array of distances: [2, 1, 3, 2, 2, 2, 2, 2, 2, 2, 2, 2, 2, 2, 2, 2, 3, 2, 2, 2, 2, 2, 3, 2, 2, 2, 2, 2, 2, 3, 2, 2, 2, 2, 2, 3, 2, 2, 2, 2, 3, 2, 2, 1, 2, 2, 2, 2, 2, 2]\n"
          ],
          "name": "stdout"
        },
        {
          "output_type": "execute_result",
          "data": {
            "text/plain": [
              "<BarContainer object of 4 artists>"
            ]
          },
          "metadata": {
            "tags": []
          },
          "execution_count": 10
        },
        {
          "output_type": "display_data",
          "data": {
            "image/png": "[encoded data removed]",
            "text/plain": [
              "<Figure size 432x288 with 1 Axes>"
            ]
          },
          "metadata": {
            "tags": [],
            "needs_background": "light"
          }
        }
      ]
    },
    {
      "cell_type": "markdown",
      "metadata": {
        "id": "omXCGz1bv5MM"
      },
      "source": [
        "### Case 2\n",
        "Here I'm considering that the 100 nodes are a subgraph of the original graph with 100 nodes"
      ]
    },
    {
      "cell_type": "code",
      "metadata": {
        "colab": {
          "base_uri": "https://localhost:8080/"
        },
        "id": "hYBk5nc-nDsD",
        "outputId": "3d344587-5a4c-4bf3-cf6e-6e6f198b84bd"
      },
      "source": [
        "# creating a subgraph of 100 nodes from the original graph\n",
        "subg = G.subgraph(random_edges)\n",
        "\n",
        "# discovering the shortest path between Vi and Vi+1\n",
        "comma_separated_list = []\n",
        "s_path_size = []\n",
        "\n",
        "for i in range(0,len(random_edges), 2):\n",
        "\n",
        "  #calculating shortest path\n",
        "  try:\n",
        "    s_path = netx.shortest_path(subg,source=random_edges[i],target=random_edges[i+1])\n",
        "    s_path_size.append(len(s_path)-1)\n",
        "    s_path1 = [str(element) for element in s_path]\n",
        "    print(\"Shortest path from Vi\", random_edges[i], \"to Vi+1\", random_edges[i+1], \"is\", (s_path), \"with distance equals to\", len(s_path)-1)\n",
        "\n",
        "    # creating an array with all distance values\n",
        "    comma_separated_values = \", \".join(s_path1)\n",
        "    comma_separated_list.append(comma_separated_values)\n",
        "  except:\n",
        "    s_path_size.append(0)\n",
        "    comma_separated_list.append(\"[]\")"
      ],
      "execution_count": 11,
      "outputs": [
        {
          "output_type": "stream",
          "text": [
            "Shortest path from Vi 552 to Vi+1 17 is [552, 214, 104, 931, 536, 259, 17] with distance equals to 6\n",
            "Shortest path from Vi 531 to Vi+1 695 is [531, 695] with distance equals to 1\n",
            "Shortest path from Vi 413 to Vi+1 600 is [413, 206, 83, 208, 975, 600] with distance equals to 5\n",
            "Shortest path from Vi 926 to Vi+1 421 is [926, 852, 421] with distance equals to 2\n",
            "Shortest path from Vi 42 to Vi+1 881 is [42, 243, 536, 625, 881] with distance equals to 4\n",
            "Shortest path from Vi 962 to Vi+1 208 is [962, 874, 208] with distance equals to 2\n",
            "Shortest path from Vi 768 to Vi+1 934 is [768, 918, 637, 159, 934] with distance equals to 4\n",
            "Shortest path from Vi 804 to Vi+1 212 is [804, 533, 208, 212] with distance equals to 3\n",
            "Shortest path from Vi 439 to Vi+1 83 is [439, 353, 83] with distance equals to 2\n",
            "Shortest path from Vi 680 to Vi+1 243 is [680, 536, 243] with distance equals to 2\n",
            "Shortest path from Vi 108 to Vi+1 205 is [108, 439, 750, 205] with distance equals to 3\n",
            "Shortest path from Vi 104 to Vi+1 259 is [104, 931, 536, 259] with distance equals to 3\n",
            "Shortest path from Vi 495 to Vi+1 625 is [495, 912, 353, 439, 625] with distance equals to 4\n",
            "Shortest path from Vi 214 to Vi+1 260 is [214, 206, 83, 208, 260] with distance equals to 4\n",
            "Shortest path from Vi 353 to Vi+1 189 is [353, 757, 189] with distance equals to 2\n",
            "Shortest path from Vi 27 to Vi+1 206 is [27, 243, 536, 680, 206] with distance equals to 4\n",
            "Shortest path from Vi 748 to Vi+1 446 is [748, 159, 108, 221, 446] with distance equals to 4\n",
            "Shortest path from Vi 593 to Vi+1 757 is [593, 167, 757] with distance equals to 2\n",
            "Shortest path from Vi 659 to Vi+1 96 is [659, 108, 221, 96] with distance equals to 3\n",
            "Shortest path from Vi 682 to Vi+1 628 is [682, 931, 628] with distance equals to 2\n",
            "Shortest path from Vi 421 to Vi+1 659 is [421, 578, 536, 243, 659] with distance equals to 4\n",
            "Shortest path from Vi 221 to Vi+1 910 is [221, 757, 910] with distance equals to 2\n",
            "Shortest path from Vi 637 to Vi+1 817 is [637, 88, 944, 817] with distance equals to 3\n",
            "Shortest path from Vi 88 to Vi+1 918 is [88, 637, 918] with distance equals to 2\n",
            "Shortest path from Vi 853 to Vi+1 555 is [853, 975, 27, 243, 555] with distance equals to 4\n",
            "Shortest path from Vi 158 to Vi+1 750 is [158, 765, 439, 750] with distance equals to 3\n",
            "Shortest path from Vi 690 to Vi+1 576 is [690, 695, 934, 576] with distance equals to 3\n",
            "Shortest path from Vi 578 to Vi+1 205 is [578, 536, 596, 205] with distance equals to 3\n",
            "Shortest path from Vi 491 to Vi+1 705 is [491, 944, 910, 104, 705] with distance equals to 4\n",
            "Shortest path from Vi 336 to Vi+1 296 is [336, 806, 208, 531, 296] with distance equals to 4\n",
            "Shortest path from Vi 592 to Vi+1 309 is [592, 596, 536, 212, 309] with distance equals to 4\n",
            "Shortest path from Vi 531 to Vi+1 297 is [531, 208, 975, 297] with distance equals to 3\n",
            "Shortest path from Vi 806 to Vi+1 907 is [806, 336, 27, 907] with distance equals to 3\n",
            "Shortest path from Vi 944 to Vi+1 631 is [944, 296, 631] with distance equals to 2\n",
            "Shortest path from Vi 89 to Vi+1 518 is [89, 395, 765, 158, 104, 518] with distance equals to 5\n",
            "Shortest path from Vi 432 to Vi+1 608 is [432, 83, 353, 608] with distance equals to 3\n",
            "Shortest path from Vi 633 to Vi+1 167 is [633, 96, 221, 108, 167] with distance equals to 4\n",
            "Shortest path from Vi 548 to Vi+1 395 is [548, 421, 918, 765, 395] with distance equals to 4\n",
            "Shortest path from Vi 294 to Vi+1 934 is [294, 432, 755, 934] with distance equals to 3\n",
            "Shortest path from Vi 862 to Vi+1 975 is [862, 296, 944, 975] with distance equals to 3\n",
            "Shortest path from Vi 755 to Vi+1 852 is [755, 432, 804, 852] with distance equals to 3\n",
            "Shortest path from Vi 536 to Vi+1 254 is [536, 596, 205, 254] with distance equals to 3\n",
            "Shortest path from Vi 533 to Vi+1 298 is [533, 918, 765, 158, 298] with distance equals to 4\n",
            "Shortest path from Vi 663 to Vi+1 954 is [663, 954] with distance equals to 1\n",
            "Shortest path from Vi 936 to Vi+1 93 is [936, 817, 108, 167, 93] with distance equals to 4\n",
            "Shortest path from Vi 931 to Vi+1 202 is [931, 628, 874, 202] with distance equals to 3\n",
            "Shortest path from Vi 596 to Vi+1 874 is [596, 27, 243, 874] with distance equals to 3\n",
            "Shortest path from Vi 912 to Vi+1 326 is [912, 208, 874, 326] with distance equals to 3\n",
            "Shortest path from Vi 893 to Vi+1 765 is [893, 918, 765] with distance equals to 2\n",
            "Shortest path from Vi 536 to Vi+1 159 is [536, 680, 637, 159] with distance equals to 3\n"
          ],
          "name": "stdout"
        }
      ]
    },
    {
      "cell_type": "code",
      "metadata": {
        "id": "DjQZo3yTyJIM"
      },
      "source": [
        "# writing shortest path to file\n",
        "with open('case2_shortest_path.txt', 'w+') as f:\n",
        "  for values in comma_separated_list:\n",
        "    f.write('%s\\n' %values)\n",
        "f.close()"
      ],
      "execution_count": 12,
      "outputs": []
    },
    {
      "cell_type": "code",
      "metadata": {
        "colab": {
          "base_uri": "https://localhost:8080/",
          "height": 319
        },
        "id": "l3Ejmnu2oFPl",
        "outputId": "56ee8df1-0ffe-46ab-f502-00f5a8fef2d9"
      },
      "source": [
        "# Plot the distribution of the distances\n",
        "print(\"Array of distances:\", s_path_size)\n",
        "\n",
        "columns= np.arange(0,max(s_path_size)+2,1)\n",
        "results, edges = np.histogram(s_path_size, density=True, bins = columns)\n",
        "plt.xticks(edges, edges)\n",
        "plt.bar(edges[:-1], results, 1, color='red', edgecolor='black')"
      ],
      "execution_count": 13,
      "outputs": [
        {
          "output_type": "stream",
          "text": [
            "Array of distances: [6, 1, 5, 2, 4, 2, 4, 3, 2, 2, 3, 3, 4, 4, 2, 4, 4, 2, 3, 2, 4, 2, 3, 2, 4, 3, 3, 3, 4, 4, 4, 3, 3, 2, 5, 3, 4, 4, 3, 3, 3, 3, 4, 1, 4, 3, 3, 3, 2, 3]\n"
          ],
          "name": "stdout"
        },
        {
          "output_type": "execute_result",
          "data": {
            "text/plain": [
              "<BarContainer object of 7 artists>"
            ]
          },
          "metadata": {
            "tags": []
          },
          "execution_count": 13
        },
        {
          "output_type": "display_data",
          "data": {
            "image/png": "[encoded data removed]",
            "text/plain": [
              "<Figure size 432x288 with 1 Axes>"
            ]
          },
          "metadata": {
            "tags": [],
            "needs_background": "light"
          }
        }
      ]
    }
  ]
}