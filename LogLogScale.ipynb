{
  "nbformat": 4,
  "nbformat_minor": 0,
  "metadata": {
    "colab": {
      "name": "LogLogScale.ipynb",
      "provenance": [],
      "collapsed_sections": [],
      "authorship_tag": "ABX9TyMs08pl1UuDEi3VO3S+HOU3",
      "include_colab_link": true
    },
    "kernelspec": {
      "name": "python3",
      "display_name": "Python 3"
    },
    "language_info": {
      "name": "python"
    }
  },
  "cells": [
    {
      "cell_type": "markdown",
      "metadata": {
        "id": "view-in-github",
        "colab_type": "text"
      },
      "source": [
        "<a href=\"https://colab.research.google.com/github/andreregino/network-science-notebooks/blob/main/LogLogScale.ipynb\" target=\"_parent\"><img src=\"https://colab.research.google.com/assets/colab-badge.svg\" alt=\"Open In Colab\"/></a>"
      ]
    },
    {
      "cell_type": "markdown",
      "metadata": {
        "id": "mFmwT1zxqmBc"
      },
      "source": [
        "Start with a network with just one node. Then simulate a Barabasi-Albert process where at each time step you add one new node to the network (m = 1). Repeat until you reach N = 10000.\n",
        "Plot the degree distribution of the resulting network in log-log scale."
      ]
    },
    {
      "cell_type": "code",
      "metadata": {
        "id": "dmybD2YGqYGq"
      },
      "source": [
        "# importing the used libs\n",
        "import networkx as netx\n",
        "import pandas as pd\n",
        "import matplotlib.pyplot as plt\n",
        "import random\n",
        "import numpy as np\n",
        "from sklearn.linear_model import LinearRegression\n",
        "from scipy.stats import linregress, zscore, norm"
      ],
      "execution_count": 1,
      "outputs": []
    },
    {
      "cell_type": "code",
      "metadata": {
        "colab": {
          "base_uri": "https://localhost:8080/"
        },
        "id": "1qNn_jSuq_CS",
        "outputId": "82be8774-dba5-440d-9688-fa7e25acf0ab"
      },
      "source": [
        "G = netx.barabasi_albert_graph(10000, 1, seed=1)\n",
        "print(\"Number of nodes:\", len(G.nodes))\n",
        "print(\"Number of edges:\", len(G.edges))"
      ],
      "execution_count": 2,
      "outputs": [
        {
          "output_type": "stream",
          "text": [
            "Number of nodes: 10000\n",
            "Number of edges: 9999\n"
          ],
          "name": "stdout"
        }
      ]
    },
    {
      "cell_type": "code",
      "metadata": {
        "id": "7EyaWGy6xacl"
      },
      "source": [
        "# function to plot non logarithm graph\n",
        "def normal_plot(degree_of_network):\n",
        "  plt.hist(dict(degree_of_network).values(), density=True)"
      ],
      "execution_count": 3,
      "outputs": []
    },
    {
      "cell_type": "code",
      "metadata": {
        "id": "U_AxPoPixcwb"
      },
      "source": [
        "# function to plot log-log scale graph\n",
        "def plot_degree_histogram(g, normalized=True):\n",
        "  aux_y = netx.degree_histogram(g)\n",
        "  y=aux_y.copy()\n",
        "  aux_x = np.arange(0,len(aux_y)).tolist()\n",
        "    \n",
        "  n_nodes = g.number_of_nodes()\n",
        "    \n",
        "  if normalized:\n",
        "    for i in range(len(aux_y)):\n",
        "      aux_y[i] = aux_y[i]/n_nodes\n",
        "\n",
        "  # linear regression  \n",
        "  lm = LinearRegression()\n",
        "  lm.fit(np.array(aux_x).reshape(-1, 1), (y))\n",
        "  y_pred = lm.predict(np.array(aux_x).reshape(-1, 1))\n",
        "  \n",
        "  # plotting\n",
        "  fig=plt.figure()\n",
        "  ax=fig.add_subplot(111, label=\"1\")\n",
        "  ax2=fig.add_subplot(111, label=\"2\", frame_on=False)\n",
        "  ax.loglog(aux_x, y, 'x', label='log')\n",
        "  ax2.plot(np.array(aux_x).reshape(-1, 1), y_pred, color='red', linewidth=3, label=\"linear\")\n",
        "  ax.legend(loc=\"upper right\")\n",
        "  ax2.legend(loc=\"lower left\")\n",
        "  ax.xaxis.set_ticks_position('top')\n",
        "  ax.yaxis.set_ticks_position('right')\n",
        "  plt.tight_layout()\n",
        "  plt.show()\n",
        "\n",
        "  # finding the slope\n",
        "  print(\"Slope of the line:\", linregress(aux_x, y_pred).slope)"
      ],
      "execution_count": 15,
      "outputs": []
    },
    {
      "cell_type": "code",
      "metadata": {
        "id": "TLTwTuwGxjQz"
      },
      "source": [
        "# function that calculate the degree distribution of the graph\n",
        "def calculate_degree_distribution(G):\n",
        "  number_of_nodes = len(G.nodes)\n",
        "  degree_of_network = G.degree()\n",
        "  degrees = sorted(dict(degree_of_network).values())\n",
        "  print(\"Average degree\", sum(degrees) / number_of_nodes)\n",
        "  normal_plot(degree_of_network)\n",
        "\n"
      ],
      "execution_count": 5,
      "outputs": []
    },
    {
      "cell_type": "code",
      "metadata": {
        "colab": {
          "base_uri": "https://localhost:8080/",
          "height": 630
        },
        "id": "HAYHL1Vcxlqc",
        "outputId": "641836f0-52d0-4cf8-8552-a45ec10205f2"
      },
      "source": [
        "print(\"Plotting non logarithm distribution\")\n",
        "calculate_degree_distribution(G)\n",
        "plt.show()\n",
        "print(\"\\nPlotting log log distribution\")\n",
        "plot_degree_histogram(G)\n"
      ],
      "execution_count": 16,
      "outputs": [
        {
          "output_type": "stream",
          "text": [
            "Plotting non logarithm distribution\n",
            "Average degree 1.9998\n"
          ],
          "name": "stdout"
        },
        {
          "output_type": "display_data",
          "data": {
            "image/png": "[encoded data removed]",
            "text/plain": [
              "<Figure size 432x288 with 1 Axes>"
            ]
          },
          "metadata": {
            "tags": [],
            "needs_background": "light"
          }
        },
        {
          "output_type": "stream",
          "text": [
            "Plotting log log distribution\n"
          ],
          "name": "stdout"
        },
        {
          "output_type": "display_data",
          "data": {
            "image/png": "[encoded data removed]",
            "text/plain": [
              "<Figure size 432x288 with 2 Axes>"
            ]
          },
          "metadata": {
            "tags": [],
            "needs_background": "light"
          }
        },
        {
          "output_type": "stream",
          "text": [
            "Slope of the line: -1.256268829112041\n",
            "\n"
          ],
          "name": "stdout"
        }
      ]
    },
    {
      "cell_type": "markdown",
      "metadata": {
        "id": "uwcl--TOS4fS"
      },
      "source": [
        "Did you get a power law? Yes, plotting it in log log scale and its linear regression it is possible to see that this represents a power-law"
      ]
    }
  ]
}